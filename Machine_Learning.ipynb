{
 "cells": [
  {
   "cell_type": "markdown",
   "metadata": {},
   "source": [
    "# Proyecto de Machine Learning \n",
    "\n",
    "### Curso de inteligencia artificial\n",
    "#### Presentado a:\n",
    "Prof. Andres Mauricio Castillo\n",
    "#### Presentado por:\n",
    "- Valeria Rivera Muñoz - 1626837\n",
    "- Juan Felipe Gil Londoño - 1626055\n",
    "- Mateo Gregory Jimenez - 1629431\n",
    "    \n",
    "### Objetivo del proyecto:\n",
    "    Aplicar el concepto de aprendizaje de máquina para resolver un problema de clasificación usando los métodos vistos en el curso. \n",
    "\n",
    "### Obtencion y analisis de los datos:\n",
    "###### Los datos se obtuvieron los datos del siguiente enlace: [Heart_disease_target](https://www.kaggle.com/ronitf/heart-disease-uci)"
   ]
  },
  {
   "cell_type": "markdown",
   "metadata": {},
   "source": [
    "# Instalacion de paquetes adicionales"
   ]
  },
  {
   "cell_type": "code",
   "execution_count": 1,
   "metadata": {},
   "outputs": [
    {
     "name": "stdout",
     "output_type": "stream",
     "text": [
      "Requirement already satisfied: pydotplus in c:\\programdata\\anaconda3\\lib\\site-packages (2.0.2)\n",
      "Requirement already satisfied: pyparsing>=2.0.1 in c:\\programdata\\anaconda3\\lib\\site-packages (from pydotplus) (2.4.0)\n",
      "Requirement already satisfied: graphviz in c:\\programdata\\anaconda3\\lib\\site-packages (0.13)\n"
     ]
    }
   ],
   "source": [
    "!pip install pydotplus\n",
    "!pip install graphviz"
   ]
  },
  {
   "cell_type": "markdown",
   "metadata": {},
   "source": [
    "# Adicionar librerias necesarias\n",
    "En las siguientes lineas se agregaran todas las librerias necesarias para nuestro proyecto"
   ]
  },
  {
   "cell_type": "markdown",
   "metadata": {},
   "source": [
    "En el siguiente bloque de codigo se importaran las librerias relacionadas con el manejo de datos de nuestro clasificador"
   ]
  },
  {
   "cell_type": "code",
   "execution_count": 2,
   "metadata": {},
   "outputs": [],
   "source": [
    "import numpy as np\n",
    "import pandas as pd\n",
    "import matplotlib.pyplot as plt\n",
    "import warnings\n",
    "import sklearn\n",
    "import copy"
   ]
  },
  {
   "cell_type": "markdown",
   "metadata": {},
   "source": [
    "En este bloque se importaran las librearias relacionadas con los modelos de apredizaje de maquina"
   ]
  },
  {
   "cell_type": "code",
   "execution_count": 3,
   "metadata": {},
   "outputs": [],
   "source": [
    "from sklearn import tree\n",
    "from sklearn.model_selection import train_test_split\n",
    "from sklearn.metrics import confusion_matrix\n",
    "from sklearn.naive_bayes import GaussianNB\n",
    "from sklearn.neural_network import MLPClassifier\n",
    "from sklearn.preprocessing import StandardScaler"
   ]
  },
  {
   "cell_type": "code",
   "execution_count": 4,
   "metadata": {},
   "outputs": [],
   "source": [
    "from six import StringIO  \n",
    "from IPython.display import Image  \n",
    "from sklearn.tree import export_graphviz\n",
    "import pydotplus"
   ]
  },
  {
   "cell_type": "markdown",
   "metadata": {},
   "source": [
    "# Leer los datos"
   ]
  },
  {
   "cell_type": "markdown",
   "metadata": {},
   "source": [
    "Ahora procedemos a cargar los datos del archivo \"Heart_disease_target.csv\" donde se encuentran todos los datos necesarios para empezar con los metodos de clasificación"
   ]
  },
  {
   "cell_type": "code",
   "execution_count": 5,
   "metadata": {},
   "outputs": [],
   "source": [
    "train_target=pd.read_csv(\"./Heart_disease_target.csv\")"
   ]
  },
  {
   "cell_type": "markdown",
   "metadata": {},
   "source": [
    "# Entender los datos"
   ]
  },
  {
   "cell_type": "code",
   "execution_count": 6,
   "metadata": {},
   "outputs": [
    {
     "name": "stdout",
     "output_type": "stream",
     "text": [
      "   age  sex  cp  trestbps  chol  fbs  restecg  thalach  exang  oldpeak  slope  \\\n",
      "0   63    1   3       145   233    1        0      150      0      2.3      0   \n",
      "1   37    1   2       130   250    0        1      187      0      3.5      0   \n",
      "2   41    0   1       130   204    0        0      172      0      1.4      2   \n",
      "3   56    1   1       120   236    0        1      178      0      0.8      2   \n",
      "4   57    0   0       120   354    0        1      163      1      0.6      2   \n",
      "\n",
      "   ca  thal  target  \n",
      "0   0     1       1  \n",
      "1   0     2       1  \n",
      "2   0     2       1  \n",
      "3   0     2       1  \n",
      "4   0     2       1  \n"
     ]
    }
   ],
   "source": [
    "print(train_target.head())"
   ]
  },
  {
   "cell_type": "markdown",
   "metadata": {},
   "source": [
    "Como se puede apreciar en el Output anterior la unica columna que poseee atributos no numericos, osea no categoricas es el lugar y a diferencia del ejemplo del titanic donde la edad se convierte a binaria, en este caso es importante conocer la edad exacta de cada paciente"
   ]
  },
  {
   "cell_type": "code",
   "execution_count": 7,
   "metadata": {},
   "outputs": [
    {
     "data": {
      "text/html": [
       "<div>\n",
       "<style scoped>\n",
       "    .dataframe tbody tr th:only-of-type {\n",
       "        vertical-align: middle;\n",
       "    }\n",
       "\n",
       "    .dataframe tbody tr th {\n",
       "        vertical-align: top;\n",
       "    }\n",
       "\n",
       "    .dataframe thead th {\n",
       "        text-align: right;\n",
       "    }\n",
       "</style>\n",
       "<table border=\"1\" class=\"dataframe\">\n",
       "  <thead>\n",
       "    <tr style=\"text-align: right;\">\n",
       "      <th></th>\n",
       "      <th>age</th>\n",
       "      <th>sex</th>\n",
       "      <th>cp</th>\n",
       "      <th>trestbps</th>\n",
       "      <th>chol</th>\n",
       "      <th>fbs</th>\n",
       "      <th>restecg</th>\n",
       "      <th>thalach</th>\n",
       "      <th>exang</th>\n",
       "      <th>oldpeak</th>\n",
       "      <th>slope</th>\n",
       "      <th>ca</th>\n",
       "      <th>thal</th>\n",
       "      <th>target</th>\n",
       "    </tr>\n",
       "  </thead>\n",
       "  <tbody>\n",
       "    <tr>\n",
       "      <th>count</th>\n",
       "      <td>303.000000</td>\n",
       "      <td>303.000000</td>\n",
       "      <td>303.000000</td>\n",
       "      <td>303.000000</td>\n",
       "      <td>303.000000</td>\n",
       "      <td>303.000000</td>\n",
       "      <td>303.000000</td>\n",
       "      <td>303.000000</td>\n",
       "      <td>303.000000</td>\n",
       "      <td>303.000000</td>\n",
       "      <td>303.000000</td>\n",
       "      <td>303.000000</td>\n",
       "      <td>303.000000</td>\n",
       "      <td>303.000000</td>\n",
       "    </tr>\n",
       "    <tr>\n",
       "      <th>mean</th>\n",
       "      <td>54.366337</td>\n",
       "      <td>0.683168</td>\n",
       "      <td>0.966997</td>\n",
       "      <td>131.623762</td>\n",
       "      <td>246.264026</td>\n",
       "      <td>0.148515</td>\n",
       "      <td>0.528053</td>\n",
       "      <td>149.646865</td>\n",
       "      <td>0.326733</td>\n",
       "      <td>1.039604</td>\n",
       "      <td>1.399340</td>\n",
       "      <td>0.729373</td>\n",
       "      <td>2.313531</td>\n",
       "      <td>0.544554</td>\n",
       "    </tr>\n",
       "    <tr>\n",
       "      <th>std</th>\n",
       "      <td>9.082101</td>\n",
       "      <td>0.466011</td>\n",
       "      <td>1.032052</td>\n",
       "      <td>17.538143</td>\n",
       "      <td>51.830751</td>\n",
       "      <td>0.356198</td>\n",
       "      <td>0.525860</td>\n",
       "      <td>22.905161</td>\n",
       "      <td>0.469794</td>\n",
       "      <td>1.161075</td>\n",
       "      <td>0.616226</td>\n",
       "      <td>1.022606</td>\n",
       "      <td>0.612277</td>\n",
       "      <td>0.498835</td>\n",
       "    </tr>\n",
       "    <tr>\n",
       "      <th>min</th>\n",
       "      <td>29.000000</td>\n",
       "      <td>0.000000</td>\n",
       "      <td>0.000000</td>\n",
       "      <td>94.000000</td>\n",
       "      <td>126.000000</td>\n",
       "      <td>0.000000</td>\n",
       "      <td>0.000000</td>\n",
       "      <td>71.000000</td>\n",
       "      <td>0.000000</td>\n",
       "      <td>0.000000</td>\n",
       "      <td>0.000000</td>\n",
       "      <td>0.000000</td>\n",
       "      <td>0.000000</td>\n",
       "      <td>0.000000</td>\n",
       "    </tr>\n",
       "    <tr>\n",
       "      <th>25%</th>\n",
       "      <td>47.500000</td>\n",
       "      <td>0.000000</td>\n",
       "      <td>0.000000</td>\n",
       "      <td>120.000000</td>\n",
       "      <td>211.000000</td>\n",
       "      <td>0.000000</td>\n",
       "      <td>0.000000</td>\n",
       "      <td>133.500000</td>\n",
       "      <td>0.000000</td>\n",
       "      <td>0.000000</td>\n",
       "      <td>1.000000</td>\n",
       "      <td>0.000000</td>\n",
       "      <td>2.000000</td>\n",
       "      <td>0.000000</td>\n",
       "    </tr>\n",
       "    <tr>\n",
       "      <th>50%</th>\n",
       "      <td>55.000000</td>\n",
       "      <td>1.000000</td>\n",
       "      <td>1.000000</td>\n",
       "      <td>130.000000</td>\n",
       "      <td>240.000000</td>\n",
       "      <td>0.000000</td>\n",
       "      <td>1.000000</td>\n",
       "      <td>153.000000</td>\n",
       "      <td>0.000000</td>\n",
       "      <td>0.800000</td>\n",
       "      <td>1.000000</td>\n",
       "      <td>0.000000</td>\n",
       "      <td>2.000000</td>\n",
       "      <td>1.000000</td>\n",
       "    </tr>\n",
       "    <tr>\n",
       "      <th>75%</th>\n",
       "      <td>61.000000</td>\n",
       "      <td>1.000000</td>\n",
       "      <td>2.000000</td>\n",
       "      <td>140.000000</td>\n",
       "      <td>274.500000</td>\n",
       "      <td>0.000000</td>\n",
       "      <td>1.000000</td>\n",
       "      <td>166.000000</td>\n",
       "      <td>1.000000</td>\n",
       "      <td>1.600000</td>\n",
       "      <td>2.000000</td>\n",
       "      <td>1.000000</td>\n",
       "      <td>3.000000</td>\n",
       "      <td>1.000000</td>\n",
       "    </tr>\n",
       "    <tr>\n",
       "      <th>max</th>\n",
       "      <td>77.000000</td>\n",
       "      <td>1.000000</td>\n",
       "      <td>3.000000</td>\n",
       "      <td>200.000000</td>\n",
       "      <td>564.000000</td>\n",
       "      <td>1.000000</td>\n",
       "      <td>2.000000</td>\n",
       "      <td>202.000000</td>\n",
       "      <td>1.000000</td>\n",
       "      <td>6.200000</td>\n",
       "      <td>2.000000</td>\n",
       "      <td>4.000000</td>\n",
       "      <td>3.000000</td>\n",
       "      <td>1.000000</td>\n",
       "    </tr>\n",
       "  </tbody>\n",
       "</table>\n",
       "</div>"
      ],
      "text/plain": [
       "              age         sex          cp    trestbps        chol         fbs  \\\n",
       "count  303.000000  303.000000  303.000000  303.000000  303.000000  303.000000   \n",
       "mean    54.366337    0.683168    0.966997  131.623762  246.264026    0.148515   \n",
       "std      9.082101    0.466011    1.032052   17.538143   51.830751    0.356198   \n",
       "min     29.000000    0.000000    0.000000   94.000000  126.000000    0.000000   \n",
       "25%     47.500000    0.000000    0.000000  120.000000  211.000000    0.000000   \n",
       "50%     55.000000    1.000000    1.000000  130.000000  240.000000    0.000000   \n",
       "75%     61.000000    1.000000    2.000000  140.000000  274.500000    0.000000   \n",
       "max     77.000000    1.000000    3.000000  200.000000  564.000000    1.000000   \n",
       "\n",
       "          restecg     thalach       exang     oldpeak       slope          ca  \\\n",
       "count  303.000000  303.000000  303.000000  303.000000  303.000000  303.000000   \n",
       "mean     0.528053  149.646865    0.326733    1.039604    1.399340    0.729373   \n",
       "std      0.525860   22.905161    0.469794    1.161075    0.616226    1.022606   \n",
       "min      0.000000   71.000000    0.000000    0.000000    0.000000    0.000000   \n",
       "25%      0.000000  133.500000    0.000000    0.000000    1.000000    0.000000   \n",
       "50%      1.000000  153.000000    0.000000    0.800000    1.000000    0.000000   \n",
       "75%      1.000000  166.000000    1.000000    1.600000    2.000000    1.000000   \n",
       "max      2.000000  202.000000    1.000000    6.200000    2.000000    4.000000   \n",
       "\n",
       "             thal      target  \n",
       "count  303.000000  303.000000  \n",
       "mean     2.313531    0.544554  \n",
       "std      0.612277    0.498835  \n",
       "min      0.000000    0.000000  \n",
       "25%      2.000000    0.000000  \n",
       "50%      2.000000    1.000000  \n",
       "75%      3.000000    1.000000  \n",
       "max      3.000000    1.000000  "
      ]
     },
     "execution_count": 7,
     "metadata": {},
     "output_type": "execute_result"
    }
   ],
   "source": [
    "train_target.describe()"
   ]
  },
  {
   "cell_type": "markdown",
   "metadata": {},
   "source": [
    "Graficamos un histograma de los datos de cada columna que posee el data set, son un total de 12 columnas"
   ]
  },
  {
   "cell_type": "code",
   "execution_count": 8,
   "metadata": {},
   "outputs": [
    {
     "data": {
      "image/png": "[encoded data removed]",
      "text/plain": [
       "<Figure size 432x288 with 13 Axes>"
      ]
     },
     "metadata": {
      "needs_background": "light"
     },
     "output_type": "display_data"
    }
   ],
   "source": [
    "columns=list(train_target.columns)\n",
    "del(columns[len(columns)-1])\n",
    "\n",
    "ax1 = plt.axes([0.0, 1.0, 0.3, 0.3])\n",
    "_ = plt.hist(train_target[columns[0]].dropna())\n",
    "plt.title(columns[0])\n",
    "\n",
    "ax2 = plt.axes([0.4, 1.0, 0.3, 0.3])\n",
    "sexCount=[(train_target[columns[1]]==1).sum(),(train_target[columns[1]]==0).sum()]\n",
    "_ = plt.pie(sexCount, labels=['M','F'])\n",
    "plt.title(columns[1])\n",
    "\n",
    "ax3 = plt.axes([0.8, 1.0, 0.3, 0.3])\n",
    "cpCount=[(train_target[columns[2]]==0).sum(),(train_target[columns[2]]==1).sum(),\n",
    "          (train_target[columns[2]]==2).sum(),(train_target[columns[2]]==3).sum()]\n",
    "_ = plt.pie(cpCount, labels=['0','1','2','3'])\n",
    "plt.title(columns[2])\n",
    "\n",
    "ax4 = plt.axes([1.2, 1.0, 0.3, 0.3])\n",
    "_ = plt.hist(train_target[columns[3]].dropna())\n",
    "plt.title(columns[3])\n",
    "\n",
    "ax5 = plt.axes([1.6, 1.0, 0.3, 0.3])\n",
    "_ = plt.hist(train_target[columns[4]].dropna())\n",
    "plt.title(columns[4])\n",
    "\n",
    "ax6 = plt.axes([2.0, 1.0, 0.3, 0.3])\n",
    "fbsCount=[(train_target[columns[5]]==1).sum(),(train_target[columns[5]]==0).sum()]\n",
    "_ = plt.pie(fbsCount, labels=['>120','<120'])\n",
    "plt.title(columns[5])\n",
    "\n",
    "ax7 = plt.axes([0.0, 0.5, 0.3, 0.3])\n",
    "restecgCount=[(train_target[columns[6]]==0).sum(),(train_target[columns[6]]==1).sum(),(train_target[columns[6]]==2).sum()]\n",
    "_ = plt.pie(restecgCount, labels=['0','1','2'])\n",
    "plt.title(columns[6])\n",
    "\n",
    "ax8 = plt.axes([0.4, 0.5, 0.3, 0.3])\n",
    "_ = plt.hist(train_target[columns[7]].dropna())\n",
    "plt.title(columns[7])\n",
    "\n",
    "ax9  = plt.axes([0.8, 0.5, 0.3, 0.3])\n",
    "restecgCount=[(train_target[columns[8]]==1).sum(),(train_target[columns[8]]==0).sum()]\n",
    "_ = plt.pie(restecgCount, labels=['Yes','No'])\n",
    "plt.title(columns[8])\n",
    "\n",
    "ax10 = plt.axes([1.2, 0.5, 0.3, 0.3])\n",
    "_ = plt.hist(train_target[columns[9]].dropna())\n",
    "plt.title(columns[9])\n",
    "\n",
    "ax11 = plt.axes([1.6, 0.5, 0.3, 0.3])\n",
    "restecgCount=[(train_target[columns[10]]==0).sum(),(train_target[columns[10]]==1).sum(),(train_target[columns[10]]==2).sum()]\n",
    "_ = plt.pie(restecgCount, labels=['0','1','2'])\n",
    "plt.title(columns[10])\n",
    "\n",
    "ax12 = plt.axes([2.0, 0.5, 0.3, 0.3])\n",
    "_ = plt.hist(train_target[columns[11]].dropna())\n",
    "plt.title(columns[11])\n",
    "\n",
    "ax13 = plt.axes([0, 0, 0.3, 0.3])\n",
    "restecgCount=[(train_target[columns[12]]==0).sum(),(train_target[columns[12]]==1).sum(),(train_target[columns[12]]==2).sum(),\n",
    "              (train_target[columns[12]]==3).sum()]\n",
    "_ = plt.pie(restecgCount, labels=['0','1','2','3'])\n",
    "plt.title(columns[12])\n",
    "\n",
    "data=[]\n",
    "for i in columns:\n",
    "    data.append(copy.deepcopy(train_target[i]))"
   ]
  },
  {
   "cell_type": "markdown",
   "metadata": {},
   "source": [
    "# Completar o remover los elementos faltantes"
   ]
  },
  {
   "cell_type": "markdown",
   "metadata": {},
   "source": [
    "Cuantificamos la cantidad de datos faltantes en el conjunto de datos y revisamos en que columnas se encuentran estos datos faltantes"
   ]
  },
  {
   "cell_type": "code",
   "execution_count": 9,
   "metadata": {},
   "outputs": [
    {
     "name": "stdout",
     "output_type": "stream",
     "text": [
      "0\n",
      "[]\n"
     ]
    }
   ],
   "source": [
    "train_target_empty=train_target.columns[train_target.isna().any()].tolist()\n",
    "print(train_target.isnull().sum().sum())\n",
    "print(train_target_empty)"
   ]
  },
  {
   "cell_type": "markdown",
   "metadata": {},
   "source": [
    "Hay un total de 0 datos faltantes, por lo que no es necesario llenar los datos faltantes"
   ]
  },
  {
   "cell_type": "markdown",
   "metadata": {},
   "source": [
    "# Dividir en conjunto en entrenamiento(80%) y pruebas(20%)"
   ]
  },
  {
   "cell_type": "code",
   "execution_count": 10,
   "metadata": {},
   "outputs": [],
   "source": [
    "features = train_target[columns].values\n",
    "target = train_target[\"target\"].values"
   ]
  },
  {
   "cell_type": "markdown",
   "metadata": {},
   "source": [
    "Ahora separamos los datos entre conjunto de entrenamiento y de pruebas"
   ]
  },
  {
   "cell_type": "code",
   "execution_count": 11,
   "metadata": {},
   "outputs": [],
   "source": [
    "train_x, test_x, train_y, test_y = train_test_split(features, target, test_size=0.2)"
   ]
  },
  {
   "cell_type": "markdown",
   "metadata": {},
   "source": [
    "## Arboles de decision"
   ]
  },
  {
   "cell_type": "code",
   "execution_count": 12,
   "metadata": {},
   "outputs": [
    {
     "name": "stdout",
     "output_type": "stream",
     "text": [
      "0.8534435261707983\n",
      "0.7890710382513663\n",
      "DecisionTreeClassifier(class_weight=None, criterion='gini', max_depth=3,\n",
      "                       max_features=None, max_leaf_nodes=None,\n",
      "                       min_impurity_decrease=0.0, min_impurity_split=None,\n",
      "                       min_samples_leaf=1, min_samples_split=6,\n",
      "                       min_weight_fraction_leaf=0.0, presort=False,\n",
      "                       random_state=None, splitter='best')\n"
     ]
    }
   ],
   "source": [
    "decision_tree_model=tree.DecisionTreeClassifier(max_depth=3, min_samples_split=6, min_samples_leaf=1, random_state=None)\n",
    "trained_decision_tree_model=decision_tree_model.fit(train_x, train_y)\n",
    "\n",
    "tree_train_scores, tree_test_scores=[], []\n",
    "\n",
    "for i in range (150):\n",
    "    tree_train_scores.append(decision_tree_model.score(train_x, train_y))\n",
    "    tree_test_scores.append(decision_tree_model.score(test_x, test_y))\n",
    "    train_x, test_x, train_y, test_y = train_test_split(features, target, test_size=0.2)\n",
    "    trained_decision_tree_model=decision_tree_model.fit(train_x, train_y)\n",
    "\n",
    "print(sum(tree_train_scores)/150)\n",
    "print(sum(tree_test_scores)/150)\n",
    "\n",
    "print(decision_tree_model)"
   ]
  },
  {
   "cell_type": "code",
   "execution_count": 13,
   "metadata": {},
   "outputs": [],
   "source": [
    "dot_data = StringIO()\n",
    "export_graphviz(decision_tree_model, out_file=dot_data, filled=True, rounded=True, \n",
    "                feature_names = list(train_target.columns[:13]),class_names = ['no disease','disease'], \n",
    "                special_characters=True)\n",
    "\n",
    "graph = pydotplus.graph_from_dot_data(dot_data.getvalue())\n",
    "\n",
    "dot_data = tree.export_graphviz(decision_tree_model, out_file=\"resume.dot\",\n",
    "feature_names = list(train_target.columns[:13]),class_names=['hired','not-hired'],\n",
    "filled=True, rounded=True, special_characters=True, leaves_parallel=False)\n",
    "\n",
    "graph = pydotplus.graphviz.graph_from_dot_file(\"resume.dot\")"
   ]
  },
  {
   "cell_type": "markdown",
   "metadata": {},
   "source": [
    "Una vez se ha ejecutado el modelo"
   ]
  },
  {
   "cell_type": "code",
   "execution_count": 14,
   "metadata": {},
   "outputs": [
    {
     "data": {
      "text/plain": [
       "array([[26,  6],\n",
       "       [ 9, 20]], dtype=int64)"
      ]
     },
     "execution_count": 14,
     "metadata": {},
     "output_type": "execute_result"
    }
   ],
   "source": [
    "confusion_matrix(decision_tree_model.predict(test_x), test_y)"
   ]
  },
  {
   "cell_type": "markdown",
   "metadata": {},
   "source": [
    "# Modelo de Bayes"
   ]
  },
  {
   "cell_type": "code",
   "execution_count": 18,
   "metadata": {},
   "outputs": [],
   "source": [
    "gaussian_naive_bayes=GaussianNB()\n",
    "gaussian_model=gaussian_naive_bayes.fit(train_x, train_y)"
   ]
  },
  {
   "cell_type": "markdown",
   "metadata": {},
   "source": [
    "# Neural Network"
   ]
  },
  {
   "cell_type": "code",
   "execution_count": 16,
   "metadata": {},
   "outputs": [
    {
     "name": "stdout",
     "output_type": "stream",
     "text": [
      "84.71074380165288 %\n",
      "77.04918032786885 %\n",
      "[[ 95  29]\n",
      " [  8 110]]\n",
      "[[28  7]\n",
      " [ 7 19]]\n"
     ]
    }
   ],
   "source": [
    "# NN is sensitive to data scale. We must normilize\n",
    "scaler, copy_train_x, copy_test_x= StandardScaler(), train_x.copy(), test_x.copy()\n",
    "copy_train_x = train_x.copy()\n",
    "copy_test_x = test_x.copy()\n",
    "# Don't cheat - fit only on training data\n",
    "scaler.fit(train_x)  \n",
    "copy_train_x = scaler.transform(copy_train_x)  \n",
    "# apply same transformation to test data\n",
    "copy_test_x = scaler.transform(copy_test_x)  \n",
    "\n",
    "neural_network_model = MLPClassifier(solver='lbfgs', alpha=1e-3, activation = 'relu', max_iter=5000,\n",
    "                     hidden_layer_sizes = (12,10,8,6,4,2), random_state=1, verbose = True)\n",
    "\n",
    "neural_network_model.fit(copy_train_x, train_y)                         \n",
    "\n",
    "print(neural_network_model.score(copy_train_x, train_y)*100, \"%\")\n",
    "print(neural_network_model.score(copy_test_x, test_y)*100, \"%\")\n",
    "\n",
    "print(confusion_matrix(neural_network_model.predict(copy_train_x), train_y))\n",
    "print(confusion_matrix(neural_network_model.predict(copy_test_x), test_y))"
   ]
  },
  {
   "cell_type": "code",
   "execution_count": null,
   "metadata": {},
   "outputs": [],
   "source": []
  }
 ],
 "metadata": {
  "kernelspec": {
   "display_name": "Python 3",
   "language": "python",
   "name": "python3"
  },
  "language_info": {
   "codemirror_mode": {
    "name": "ipython",
    "version": 3
   },
   "file_extension": ".py",
   "mimetype": "text/x-python",
   "name": "python",
   "nbconvert_exporter": "python",
   "pygments_lexer": "ipython3",
   "version": "3.7.3"
  }
 },
 "nbformat": 4,
 "nbformat_minor": 2
}
